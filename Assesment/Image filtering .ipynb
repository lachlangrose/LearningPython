{
 "cells": [
  {
   "cell_type": "markdown",
   "id": "olive-fence",
   "metadata": {},
   "source": [
    "# Image filtering\n",
    "The following exercise is quite challenging and will test your knowledge and skills using numpy arrays. The goal it to create and implement image filters directly using numpy arrays. We will implement and apply the basic filters used for extracting edges from an image. \n",
    "\n",
    "Aim: to estimate the derivative of the grayscale image in the x direction and the y direction. We can do this using finite differences.\n",
    "\n",
    "The central difference method allows us to estimate the derivative at a location by looking at the value of the function for a step size in the specified direction:\n",
    "\n",
    "$f'(x) = \\frac{f(x+h) - f(x-h)}{2h}$\n",
    "\n",
    "So this means that inside an image (not on the border cells) we can estimate the derivative of the image by looking at the cells on the left and the right (for $\\partial x$) and the top and bottom (for $\\partial y$). \n",
    "\n",
    "1. Create a 3x3 matrix that is a mask for the derivative in X and another for the derivative in y\n",
    "2. Flatten this array so that it is a vector with 9 dimensions\n",
    "2. Create a 2x9 array which defines the neighbourhood of a cell e.g. [[-1,0,1],[1,1,1]] \n",
    "3. Create two arrays for the x and y indexes of the elements in the image\n",
    "4. Combine the x and y index with the neighbourhood array of the cell to create a (N-2,M-2,9) array where the last dimension describes the indexes for the neighbour of the ith and jth component.\n",
    "5. Tile the mask so that is has the shape (N-2,M-2,9)\n",
    "6. Multiply the mask array and the image array indexed by the x neighbourhood and y neighbourhood matrices\n",
    "7. Sum this in the last dimension, this is the derivative matrix\n",
    "8. **Extra points, try and implement a smoothing filter for the image.**\n",
    "    *  A smoothing filter will average out the pixels in a neighbourhood"
   ]
  },
  {
   "cell_type": "code",
   "execution_count": null,
   "id": "attached-colorado",
   "metadata": {},
   "outputs": [],
   "source": []
  }
 ],
 "metadata": {
  "kernelspec": {
   "display_name": "Python 3",
   "language": "python",
   "name": "python3"
  },
  "language_info": {
   "codemirror_mode": {
    "name": "ipython",
    "version": 3
   },
   "file_extension": ".py",
   "mimetype": "text/x-python",
   "name": "python",
   "nbconvert_exporter": "python",
   "pygments_lexer": "ipython3",
   "version": "3.9.1"
  }
 },
 "nbformat": 4,
 "nbformat_minor": 5
}
