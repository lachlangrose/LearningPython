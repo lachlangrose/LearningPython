{
 "cells": [
  {
   "cell_type": "code",
   "execution_count": 1,
   "id": "physical-shoulder",
   "metadata": {},
   "outputs": [],
   "source": [
    "import geopandas as gpd"
   ]
  },
  {
   "cell_type": "markdown",
   "id": "quarterly-pennsylvania",
   "metadata": {},
   "source": [
    "### Mapping road use over time"
   ]
  },
  {
   "cell_type": "markdown",
   "id": "active-suffering",
   "metadata": {},
   "source": [
    "In the folder Roads there is a shapefile containing a traffic count dataset from Vicroads. \n",
    "\n",
    "*This dataset contains the location, GPS coordinates and textural description, of all traffic counts conducted by VicRoads over the past 20+ years. VicRoads collects thousands of counts each year across the state. Depending on the type of equipment used, this will determine the accuracy and the type of data collected. eg Data collected at Traffic Lights (SCATS) does not classify the data into cars and truck. Turning Movement data does not have a traffic speed component etc. Data is not collected at every location every year. Some Traffic flow movements (TFMs) have also been used for adhoc counts. A strategic counting program has been developed to ensure an even coverage of data is available both temporally and spatially based on value to the state*\n",
    "\n",
    "https://discover.data.vic.gov.au/dataset/traffic-count-locations\n",
    "\n",
    "The aim of this exercise will be to apply pandas and numpy slicing and mapping using cartopy to create a visual display of how traffic in Melbourne has evolved during the survey.\n",
    "\n",
    "Using the dataset and any other relevant datasets you can find, create a map showing the busy roads in Victoria. Thi where the road is coloured \n",
    "\n"
   ]
  },
  {
   "cell_type": "code",
   "execution_count": 2,
   "id": "catholic-accordance",
   "metadata": {},
   "outputs": [],
   "source": [
    "roads =gpd.read_file('Roads/Traffic_Count_Locations.shp')"
   ]
  },
  {
   "cell_type": "code",
   "execution_count": 5,
   "id": "discrete-firmware",
   "metadata": {},
   "outputs": [
    {
     "data": {
      "text/plain": [
       "4436"
      ]
     },
     "execution_count": 5,
     "metadata": {},
     "output_type": "execute_result"
    }
   ],
   "source": [
    "len(roads['LOCAL_ROAD'].unique())"
   ]
  },
  {
   "cell_type": "code",
   "execution_count": 6,
   "id": "herbal-minneapolis",
   "metadata": {},
   "outputs": [
    {
     "data": {
      "text/plain": [
       "(64276, 26)"
      ]
     },
     "execution_count": 6,
     "metadata": {},
     "output_type": "execute_result"
    }
   ],
   "source": [
    "roads.shape"
   ]
  },
  {
   "cell_type": "code",
   "execution_count": 14,
   "id": "amino-wrestling",
   "metadata": {},
   "outputs": [
    {
     "data": {
      "text/plain": [
       "array([2007., 2020., 2013., 1997.,   nan, 2012., 2011., 2018., 2015.,\n",
       "       1995., 2006., 2010., 2005., 1986., 1993., 2001., 2014., 2009.,\n",
       "       1998., 2008., 1989., 2004., 2000., 1985., 2017., 2019., 1990.,\n",
       "       1999., 2003., 1992., 2002., 2016., 1991., 1987., 1994., 1996.,\n",
       "       1988.])"
      ]
     },
     "execution_count": 14,
     "metadata": {},
     "output_type": "execute_result"
    }
   ],
   "source": [
    "roads['LAST_YEAR'].unique()"
   ]
  },
  {
   "cell_type": "code",
   "execution_count": null,
   "id": "contemporary-knife",
   "metadata": {},
   "outputs": [],
   "source": []
  }
 ],
 "metadata": {
  "kernelspec": {
   "display_name": "Python 3",
   "language": "python",
   "name": "python3"
  },
  "language_info": {
   "codemirror_mode": {
    "name": "ipython",
    "version": 3
   },
   "file_extension": ".py",
   "mimetype": "text/x-python",
   "name": "python",
   "nbconvert_exporter": "python",
   "pygments_lexer": "ipython3",
   "version": "3.9.2"
  }
 },
 "nbformat": 4,
 "nbformat_minor": 5
}
