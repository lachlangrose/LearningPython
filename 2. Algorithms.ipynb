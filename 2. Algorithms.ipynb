{
 "cells": [
  {
   "cell_type": "markdown",
   "id": "negative-essex",
   "metadata": {},
   "source": [
    "# Programming basics\n",
    "## Variables\n",
    "A variable is something in the program that can \n",
    "\n",
    "## Control flow\n",
    "Control flow is how we can tell the computer to execute different parts of the code in different orders or for specific questions.\n",
    "\n",
    "For example, if we wanted to calculate the In this section we will discuss the basic concepts of how you can change which parts of code are accessed and \n",
    "### Conditionals\n",
    "\n",
    "#### Selection\n",
    "\n",
    "#### Nested\n",
    "\n",
    "### Iteration\n",
    "#### for\n",
    "```Python\n",
    "for i in range(10):\n",
    "    print(i)\n",
    "```\n",
    "#### while\n",
    "```Python\n",
    "\n",
    "```\n",
    "#### modifiers\n"
   ]
  },
  {
   "cell_type": "code",
   "execution_count": null,
   "id": "independent-tournament",
   "metadata": {},
   "outputs": [],
   "source": []
  }
 ],
 "metadata": {
  "kernelspec": {
   "display_name": "Python 3",
   "language": "python",
   "name": "python3"
  },
  "language_info": {
   "codemirror_mode": {
    "name": "ipython",
    "version": 3
   },
   "file_extension": ".py",
   "mimetype": "text/x-python",
   "name": "python",
   "nbconvert_exporter": "python",
   "pygments_lexer": "ipython3",
   "version": "3.9.1"
  }
 },
 "nbformat": 4,
 "nbformat_minor": 5
}
