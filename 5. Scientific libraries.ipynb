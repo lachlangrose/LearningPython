{
 "cells": [
  {
   "cell_type": "markdown",
   "id": "patient-poland",
   "metadata": {},
   "source": [
    "# Specialised libraries\n",
    "### Geopandas\n",
    "\n",
    "### Cartopy\n",
    "\n",
    "### Scikit-learn\n",
    "Machine learning toolkit with a common interface to various machine learning algorithms using the same style of function call\n",
    "### Scikit-image\n",
    "Image analysis methods with a common interface allowing you to try different methods on the same dataset with minimal recoding"
   ]
  },
  {
   "cell_type": "code",
   "execution_count": null,
   "id": "small-yield",
   "metadata": {},
   "outputs": [],
   "source": []
  }
 ],
 "metadata": {
  "kernelspec": {
   "display_name": "Python 3",
   "language": "python",
   "name": "python3"
  },
  "language_info": {
   "codemirror_mode": {
    "name": "ipython",
    "version": 3
   },
   "file_extension": ".py",
   "mimetype": "text/x-python",
   "name": "python",
   "nbconvert_exporter": "python",
   "pygments_lexer": "ipython3",
   "version": "3.9.2"
  }
 },
 "nbformat": 4,
 "nbformat_minor": 5
}
